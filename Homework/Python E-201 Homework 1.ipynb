{
 "cells": [
  {
   "cell_type": "markdown",
   "id": "defensive-alexandria",
   "metadata": {},
   "source": [
    "# Python E-201\n",
    "## Homework 1\n",
    "\n",
    "Assigned: 2021-3-27\n",
    "\n",
    "Due: 2021-4-3 (before class)\n",
    "\n",
    "email your solution to me at cmorace.public@gmail.com\n",
    "\n",
    "---"
   ]
  },
  {
   "cell_type": "markdown",
   "id": "intermediate-welding",
   "metadata": {},
   "source": [
    "Exercise 1:\n",
    "\n",
    "Create a 2D list, i.e. a list of lists, and write a program to print the minimum and maximum elements. For example. if your list is:\n",
    "```\n",
    "my_list = [\n",
    "    [1, 2, 3],\n",
    "    [4, 5, 6],\n",
    "    [7, 8, 9]\n",
    "]\n",
    "```\n",
    "your program should print out:\n",
    "```\n",
    "min = 1\n",
    "max = 9\n",
    "```"
   ]
  },
  {
   "cell_type": "code",
   "execution_count": null,
   "id": "popular-cleveland",
   "metadata": {},
   "outputs": [],
   "source": []
  },
  {
   "cell_type": "markdown",
   "id": "union-pound",
   "metadata": {},
   "source": [
    "---"
   ]
  },
  {
   "cell_type": "markdown",
   "id": "raising-naples",
   "metadata": {},
   "source": [
    "Bonus Question:\n",
    "\n",
    "Write code to scale all values in a 2D list between 0 and 1. The element with minimum value should be scaled to 0, the maximum element should be scaled to 1. For example, if your list is:\n",
    "```\n",
    "my_list = [\n",
    "    [1, 2, 3],\n",
    "    [4, 5, 6],\n",
    "    [7, 8, 9]\n",
    "]\n",
    "```\n",
    "after executing your code, `print(my_list)` should print out:\n",
    "```\n",
    "[[0.0, 0.125, 0.25], [0.375, 0.5, 0.625], [0.75, 0.875, 1.0]]\n",
    "```"
   ]
  },
  {
   "cell_type": "code",
   "execution_count": null,
   "id": "disabled-solution",
   "metadata": {},
   "outputs": [],
   "source": []
  },
  {
   "cell_type": "markdown",
   "id": "advance-lafayette",
   "metadata": {},
   "source": [
    "---"
   ]
  }
 ],
 "metadata": {
  "kernelspec": {
   "display_name": "Python 3",
   "language": "python",
   "name": "python3"
  },
  "language_info": {
   "codemirror_mode": {
    "name": "ipython",
    "version": 3
   },
   "file_extension": ".py",
   "mimetype": "text/x-python",
   "name": "python",
   "nbconvert_exporter": "python",
   "pygments_lexer": "ipython3",
   "version": "3.9.2"
  }
 },
 "nbformat": 4,
 "nbformat_minor": 5
}
